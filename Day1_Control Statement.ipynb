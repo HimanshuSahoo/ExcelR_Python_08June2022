{
 "cells": [
  {
   "cell_type": "code",
   "execution_count": 3,
   "id": "897a96a2",
   "metadata": {},
   "outputs": [
    {
     "name": "stdout",
     "output_type": "stream",
     "text": [
      "You cannot vote\n",
      "Because you are less than 18 years old\n",
      "Out of conditional statement\n"
     ]
    }
   ],
   "source": [
    "age=16\n",
    "if age>18 and age<=100:\n",
    "    print(\"You can vote\")\n",
    "    print(\"It is valid only for indian citizen\")\n",
    "    print(\"Please check your own contry standards if you are from other country\")\n",
    "elif age<0 or age>100:\n",
    "    print(\"Invalid age. Please check\")\n",
    "elif age==0:\n",
    "    print(\"You are a just born baby!\")\n",
    "else:\n",
    "    print(\"You cannot vote\")\n",
    "    print(\"Because you are less than 18 years old\")\n",
    "    print(\"Out of conditional statement\")"
   ]
  },
  {
   "cell_type": "code",
   "execution_count": null,
   "id": "0a7390d8",
   "metadata": {},
   "outputs": [],
   "source": []
  }
 ],
 "metadata": {
  "kernelspec": {
   "display_name": "Python 3",
   "language": "python",
   "name": "python3"
  },
  "language_info": {
   "codemirror_mode": {
    "name": "ipython",
    "version": 3
   },
   "file_extension": ".py",
   "mimetype": "text/x-python",
   "name": "python",
   "nbconvert_exporter": "python",
   "pygments_lexer": "ipython3",
   "version": "3.8.8"
  },
  "toc": {
   "base_numbering": 1,
   "nav_menu": {},
   "number_sections": true,
   "sideBar": true,
   "skip_h1_title": false,
   "title_cell": "Table of Contents",
   "title_sidebar": "Contents",
   "toc_cell": false,
   "toc_position": {},
   "toc_section_display": true,
   "toc_window_display": false
  },
  "varInspector": {
   "cols": {
    "lenName": 16,
    "lenType": 16,
    "lenVar": 40
   },
   "kernels_config": {
    "python": {
     "delete_cmd_postfix": "",
     "delete_cmd_prefix": "del ",
     "library": "var_list.py",
     "varRefreshCmd": "print(var_dic_list())"
    },
    "r": {
     "delete_cmd_postfix": ") ",
     "delete_cmd_prefix": "rm(",
     "library": "var_list.r",
     "varRefreshCmd": "cat(var_dic_list()) "
    }
   },
   "types_to_exclude": [
    "module",
    "function",
    "builtin_function_or_method",
    "instance",
    "_Feature"
   ],
   "window_display": false
  }
 },
 "nbformat": 4,
 "nbformat_minor": 5
}
